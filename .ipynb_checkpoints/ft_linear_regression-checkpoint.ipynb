{
 "cells": [
  {
   "cell_type": "markdown",
   "metadata": {},
   "source": [
    "# ft_linear_regression\n",
    "## An introduction to machine learning\n",
    "You will implement a simple linear regression with a single feature - in this case, the\n",
    "mileage of the car."
   ]
  },
  {
   "cell_type": "code",
   "execution_count": 1,
   "metadata": {},
   "outputs": [],
   "source": [
    "import numpy as np\n",
    "import argparse\n",
    "import matplotlib.pyplot as plt\n"
   ]
  },
  {
   "cell_type": "code",
   "execution_count": 2,
   "metadata": {},
   "outputs": [],
   "source": [
    "data = np.genfromtxt(\"data.csv\", delimiter=',', skip_header=1)"
   ]
  },
  {
   "cell_type": "markdown",
   "metadata": {},
   "source": [
    "### Data min-max normalization function:"
   ]
  },
  {
   "cell_type": "code",
   "execution_count": 3,
   "metadata": {},
   "outputs": [],
   "source": [
    "def normalize(x, min, max):\n",
    "    return (x - min) / (max - min)\n"
   ]
  },
  {
   "cell_type": "code",
   "execution_count": 4,
   "metadata": {},
   "outputs": [],
   "source": [
    "def denormalize(x, min, max):\n",
    "    return x * (max - min) + min"
   ]
  },
  {
   "cell_type": "code",
   "execution_count": 5,
   "metadata": {},
   "outputs": [],
   "source": [
    "X = data[:,0]\n",
    "Y = data[:,1]\n",
    "xmin = np.min(X)\n",
    "xmax = np.max(X)\n",
    "ymin = np.min(Y)\n",
    "ymax = np.max(Y)"
   ]
  },
  {
   "cell_type": "markdown",
   "metadata": {},
   "source": [
    "### Estimate price function:\n",
    "* The first program will be used to predict the price of a car for a given mileage.\n",
    "When you launch the program, it should prompt you for a mileage, and then give\n",
    "you back the estimated price for that mileage.\n",
    "\n",
    "The program will use the following hypothesis to predict the price:\n",
    "\n",
    "> estimatePrice(mileage) = $\\theta$0 + ($\\theta$1 ∗ mileage)"
   ]
  },
  {
   "cell_type": "code",
   "execution_count": 6,
   "metadata": {},
   "outputs": [],
   "source": [
    "def estimate_price(mileage, theta0, theta1):\n",
    "    return theta0 + theta1 * mileage"
   ]
  },
  {
   "cell_type": "markdown",
   "metadata": {},
   "source": [
    "* The second program will be used to train your model. It will read your dataset\n",
    "file and perform a linear regression on the data.\n",
    "Once the linear regression has completed, you will save the variables theta0 and\n",
    "theta1 for use in the first program.\n",
    "\n",
    "You will be using the following formulas :\n",
    "> tmp$\\theta$0 = learningRate $\\times$ $\\frac{1}{m}$$\\sum_{i=0}^{m-1}$(estimatePrice(mileage[i]) - price[i])\n",
    "\n",
    "> tmp$\\theta$1 = learningRate $\\times$ $\\frac{1}{m}$$\\sum_{i=0}^{m-1}$(estimatePrice(mileage[i]) - price[i])) $\\times$\t mileage[i]"
   ]
  },
  {
   "cell_type": "code",
   "execution_count": 7,
   "metadata": {},
   "outputs": [],
   "source": [
    "def gradient_descent(X, Y, curr_theta0, curr_theta1, lr):\n",
    "    M = len(X)\n",
    "    deriv_theta0 = 0\n",
    "    deriv_theta1 = 0\n",
    "    for i in range(M):\n",
    "        deriv_theta0 += (1 / M) * ((curr_theta0 + (curr_theta1 * X[i])) - Y[i])\n",
    "        deriv_theta1 += (1 / M) * (((curr_theta0 + (curr_theta1 * X[i])) - Y[i]) * X[i])\n",
    "    tmp_theta0 = curr_theta0 - lr * deriv_theta0\n",
    "    tmp_theta1 = curr_theta1 - lr * deriv_theta1\n",
    "    return tmp_theta0, tmp_theta1"
   ]
  },
  {
   "cell_type": "markdown",
   "metadata": {},
   "source": [
    "### Cost function:"
   ]
  },
  {
   "cell_type": "code",
   "execution_count": 8,
   "metadata": {},
   "outputs": [],
   "source": [
    "def cost_function(X, Y, theta0, theta1):\n",
    "    M = len(X)\n",
    "    err = 0.0\n",
    "    for i in range(M):\n",
    "        err += (Y[i] - estimate_price(X[i], theta0, theta1)) ** 2\n",
    "    return err / M"
   ]
  },
  {
   "cell_type": "markdown",
   "metadata": {},
   "source": [
    "### Linear Regression function:"
   ]
  },
  {
   "cell_type": "code",
   "execution_count": 9,
   "metadata": {},
   "outputs": [],
   "source": [
    "def linear_regression(X, Y, lr, epochs):\n",
    "    M = len(X)\n",
    "    theta0 = 0\n",
    "    theta1 = 0\n",
    "    loss = []\n",
    "    for i in range(epochs):\n",
    "        theta0, theta1 = gradient_descent(X, Y, theta0, theta1, lr)\n",
    "        loss.append(cost_function(X, Y, theta0, theta1))\n",
    "    return theta0, theta1, loss"
   ]
  },
  {
   "cell_type": "code",
   "execution_count": 10,
   "metadata": {},
   "outputs": [],
   "source": [
    "X = data[:, 0]\n",
    "Y = data[:, 1]\n",
    "normalized_X = [normalize(x, xmin, xmax) for x in X]\n",
    "normalized_Y = [normalize(y, ymin, ymax) for y in Y]\n",
    "learning_rate = 0.01\n",
    "epochs = 10000\n",
    "theta0, theta1, loss = linear_regression(normalized_X, normalized_Y, learning_rate, epochs)"
   ]
  },
  {
   "cell_type": "code",
   "execution_count": 11,
   "metadata": {},
   "outputs": [
    {
     "name": "stdout",
     "output_type": "stream",
     "text": [
      "Final loss =  0.0207030908794914\n"
     ]
    },
    {
     "data": {
      "image/png": "[encoded data removed]",
      "text/plain": [
       "<Figure size 432x288 with 2 Axes>"
      ]
     },
     "metadata": {
      "needs_background": "light"
     },
     "output_type": "display_data"
    }
   ],
   "source": [
    "print('Final loss = ', loss[-1])\n",
    "line_x = [0, 1]\n",
    "line_y = [(theta1 * i) + theta0 for i in line_x]\n",
    "plt.figure(1)\n",
    "plt.subplot(221)\n",
    "plt.plot(loss)\n",
    "plt.xlabel('epochs')\n",
    "plt.ylabel('loss')\n",
    "plt.title('Loss')\n",
    "plt.grid(True)\n",
    "plt.subplot(222)\n",
    "plt.plot(line_x, line_y)\n",
    "plt.scatter(normalized_X, normalized_Y)\n",
    "plt.title('Mileage vs. Price')\n",
    "plt.xlabel('mileage')\n",
    "plt.ylabel('price')\n",
    "plt.grid(True)\n",
    "plt.subplots_adjust(top=0.92, bottom=0.08, left=0.10, right=0.95, hspace=0.25,\n",
    "                    wspace=0.35)\n",
    "plt.show()\n",
    "# np.savetxt(\"thetas.csv\", [theta1, theta0], delimiter=\",\")"
   ]
  },
  {
   "cell_type": "code",
   "execution_count": 12,
   "metadata": {},
   "outputs": [
    {
     "name": "stdout",
     "output_type": "stream",
     "text": [
      "Enter a mileage for estimation: 25000\n",
      "7949.1726134696\n"
     ]
    }
   ],
   "source": [
    "    mileage = normalize(float(input(\"Enter a mileage for estimation: \")), xmin, xmax)\n",
    "    print(denormalize(estimate_price(mileage, theta0, theta1), ymin, ymax))"
   ]
  },
  {
   "cell_type": "code",
   "execution_count": null,
   "metadata": {},
   "outputs": [],
   "source": []
  }
 ],
 "metadata": {
  "kernelspec": {
   "display_name": "Python 3",
   "language": "python",
   "name": "python3"
  },
  "language_info": {
   "codemirror_mode": {
    "name": "ipython",
    "version": 3
   },
   "file_extension": ".py",
   "mimetype": "text/x-python",
   "name": "python",
   "nbconvert_exporter": "python",
   "pygments_lexer": "ipython3",
   "version": "3.7.2"
  }
 },
 "nbformat": 4,
 "nbformat_minor": 2
}
