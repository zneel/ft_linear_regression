{
 "cells": [
  {
   "cell_type": "markdown",
   "metadata": {},
   "source": [
    "# ft_linear_regression\n",
    "## An introduction to machine learning\n",
    "You will implement a simple linear regression with a single feature - in this case, the\n",
    "mileage of the car."
   ]
  },
  {
   "cell_type": "code",
   "execution_count": 1,
   "metadata": {},
   "outputs": [],
   "source": [
    "import numpy as np\n",
    "import argparse\n",
    "import matplotlib.pyplot as plt\n"
   ]
  },
  {
   "cell_type": "code",
   "execution_count": 2,
   "metadata": {},
   "outputs": [],
   "source": [
    "data = np.genfromtxt(\"data.csv\", delimiter=',', skip_header=1)"
   ]
  },
  {
   "cell_type": "markdown",
   "metadata": {},
   "source": [
    "### Data min-max normalization function:"
   ]
  },
  {
   "cell_type": "code",
   "execution_count": 3,
   "metadata": {},
   "outputs": [],
   "source": [
    "def normalize(x):\n",
    "    M = len(x)\n",
    "    z = np.zeros(x.shape)\n",
    "    for i in range(M):\n",
    "        z[i] = (x[i] - np.min(x)) / (np.max(x) - np.min(x))\n",
    "    return z"
   ]
  },
  {
   "cell_type": "markdown",
   "metadata": {},
   "source": [
    "### Data min-max denormalization function:"
   ]
  },
  {
   "cell_type": "code",
   "execution_count": 4,
   "metadata": {},
   "outputs": [],
   "source": [
    "def denormalize(x, old_x):\n",
    "    M = len(x)\n",
    "    z = np.zeros(x.shape)\n",
    "    for i in range(M):\n",
    "        z[i] = x[i] * (np.max(old_x) - np.min(old_x)) + np.min(old_x)\n",
    "    return z"
   ]
  },
  {
   "cell_type": "code",
   "execution_count": 5,
   "metadata": {},
   "outputs": [],
   "source": [
    "X = normalize(data[:,0])\n",
    "Y = normalize(data[:,1])"
   ]
  },
  {
   "cell_type": "markdown",
   "metadata": {},
   "source": [
    "### Estimate price function:\n",
    "* The first program will be used to predict the price of a car for a given mileage.\n",
    "When you launch the program, it should prompt you for a mileage, and then give\n",
    "you back the estimated price for that mileage.\n",
    "\n",
    "The program will use the following hypothesis to predict the price:\n",
    "\n",
    "> estimatePrice(mileage) = $\\theta$0 + ($\\theta$1 ∗ mileage)"
   ]
  },
  {
   "cell_type": "code",
   "execution_count": 6,
   "metadata": {},
   "outputs": [],
   "source": [
    "def estimate_price(mileage, theta0, theta1):\n",
    "    return theta0 + (theta1 * mileage)"
   ]
  },
  {
   "cell_type": "markdown",
   "metadata": {},
   "source": [
    "* The second program will be used to train your model. It will read your dataset\n",
    "file and perform a linear regression on the data.\n",
    "Once the linear regression has completed, you will save the variables theta0 and\n",
    "theta1 for use in the first program.\n",
    "\n",
    "You will be using the following formulas :\n",
    "> tmp$\\theta$0 = learningRate $\\times$ $\\frac{1}{m}$$\\sum_{i=0}^{m-1}$(estimatePrice(mileage[i]) - price[i])\n",
    "\n",
    "> tmp$\\theta$1 = learningRate $\\times$ $\\frac{1}{m}$$\\sum_{i=0}^{m-1}$(estimatePrice(mileage[i]) - price[i])) $\\times$\t mileage[i]"
   ]
  },
  {
   "cell_type": "code",
   "execution_count": 7,
   "metadata": {},
   "outputs": [],
   "source": [
    "def gradient_descent(X, Y, theta0, theta1, lr):\n",
    "    M = len(X)\n",
    "    deriv_theta0 = np.float(0)\n",
    "    deriv_theta1 = np.float(0)\n",
    "    for i in range(M):\n",
    "        deriv_theta0 += (theta0 + (theta1 * X[i]) - Y[i])\n",
    "        deriv_theta1 += ((theta0 + (theta1 * X[i]) - Y[i]) * X[i])\n",
    "    tmp_theta0 = theta0 - lr * ((1 / M) * deriv_theta0)\n",
    "    tmp_theta1 = theta0 - lr * ((1 /  M) * deriv_theta1)\n",
    "    return tmp_theta0, tmp_theta1"
   ]
  },
  {
   "cell_type": "markdown",
   "metadata": {},
   "source": [
    "### Cost function:"
   ]
  },
  {
   "cell_type": "code",
   "execution_count": 8,
   "metadata": {},
   "outputs": [],
   "source": [
    "def cost_function(X, Y, theta0, theta1):\n",
    "    M = len(X)\n",
    "    err = np.float(0)\n",
    "    for i in range(M):\n",
    "        err += Y[i] - theta0 + (theta1 * X[i]) ** 2\n",
    "    return err / M"
   ]
  },
  {
   "cell_type": "markdown",
   "metadata": {},
   "source": [
    "### Linear Regression function:"
   ]
  },
  {
   "cell_type": "code",
   "execution_count": 9,
   "metadata": {},
   "outputs": [],
   "source": [
    "def linear_regression(X, Y, lr = 0.1, epochs = 100):\n",
    "    theta0 = np.float(0)\n",
    "    theta1 = np.float(0)\n",
    "    loss = []\n",
    "    for i in range(epochs):\n",
    "        theta0, theta1 = gradient_descent(X, Y, theta0, theta1, lr)\n",
    "        loss.append(cost_function(X, Y, theta0, theta1))\n",
    "    return theta0, theta1, loss"
   ]
  },
  {
   "cell_type": "code",
   "execution_count": 10,
   "metadata": {},
   "outputs": [],
   "source": [
    "theta0, theta1, loss = linear_regression(X, Y)\n",
    "denorm_X = denormalize(X, data[:,0])\n",
    "denorm_Y = denormalize(Y, data[:,1])\n",
    "line_x = [np.min(X), np.max(X)]\n",
    "line_y = [(theta0 * i) + theta1 for i in line_x]"
   ]
  },
  {
   "cell_type": "code",
   "execution_count": 11,
   "metadata": {},
   "outputs": [
    {
     "data": {
      "image/png": "[encoded data removed]",
      "text/plain": [
       "<Figure size 432x288 with 1 Axes>"
      ]
     },
     "metadata": {
      "needs_background": "light"
     },
     "output_type": "display_data"
    },
    {
     "name": "stdout",
     "output_type": "stream",
     "text": [
      "Final loss =  0.18356019812474114\n",
      "Thetas =  [0.4270951471530152, 0.4190693738822352]\n"
     ]
    }
   ],
   "source": [
    "plt.plot(line_x, line_y, 'b')\n",
    "plt.plot(X, Y, 'ro')\n",
    "plt.show()\n",
    "print('Final loss = ', loss[-1])\n",
    "print('Thetas = ', [theta0, theta1])\n",
    "# np.savetxt(\"thetas.csv\", [theta1, theta0], delimiter=\",\")"
   ]
  },
  {
   "cell_type": "code",
   "execution_count": null,
   "metadata": {},
   "outputs": [],
   "source": []
  }
 ],
 "metadata": {
  "kernelspec": {
   "display_name": "Python 3",
   "language": "python",
   "name": "python3"
  },
  "language_info": {
   "codemirror_mode": {
    "name": "ipython",
    "version": 3
   },
   "file_extension": ".py",
   "mimetype": "text/x-python",
   "name": "python",
   "nbconvert_exporter": "python",
   "pygments_lexer": "ipython3",
   "version": "3.7.2"
  }
 },
 "nbformat": 4,
 "nbformat_minor": 2
}
